{
 "cells": [
  {
   "cell_type": "markdown",
   "metadata": {},
   "source": [
    "Имеются данные взаимодействий с рекламными объявлениями на некоторой площадке за 6 дней (ads_data.csv). И таблица с характеристиками рекламных клиентов (ads_clients_data.csv)."
   ]
  },
  {
   "cell_type": "code",
   "execution_count": 90,
   "metadata": {},
   "outputs": [
    {
     "data": {
      "text/html": [
       "<div>\n",
       "<style scoped>\n",
       "    .dataframe tbody tr th:only-of-type {\n",
       "        vertical-align: middle;\n",
       "    }\n",
       "\n",
       "    .dataframe tbody tr th {\n",
       "        vertical-align: top;\n",
       "    }\n",
       "\n",
       "    .dataframe thead th {\n",
       "        text-align: right;\n",
       "    }\n",
       "</style>\n",
       "<table border=\"1\" class=\"dataframe\">\n",
       "  <thead>\n",
       "    <tr style=\"text-align: right;\">\n",
       "      <th></th>\n",
       "      <th>placement_date</th>\n",
       "      <th>time</th>\n",
       "      <th>event</th>\n",
       "      <th>platform</th>\n",
       "      <th>ad_id</th>\n",
       "      <th>client_union_id</th>\n",
       "      <th>campaign_union_id</th>\n",
       "      <th>ad_cost_type</th>\n",
       "      <th>ad_cost</th>\n",
       "      <th>has_video</th>\n",
       "      <th>target_audience_count</th>\n",
       "      <th>community_id</th>\n",
       "      <th>create_date</th>\n",
       "    </tr>\n",
       "  </thead>\n",
       "  <tbody>\n",
       "    <tr>\n",
       "      <th>0</th>\n",
       "      <td>2019-04-01</td>\n",
       "      <td>2019-04-01 00:00:48</td>\n",
       "      <td>view</td>\n",
       "      <td>android</td>\n",
       "      <td>45061</td>\n",
       "      <td>34734</td>\n",
       "      <td>45061</td>\n",
       "      <td>CPM</td>\n",
       "      <td>200.6</td>\n",
       "      <td>0</td>\n",
       "      <td>1955269</td>\n",
       "      <td>-130129582</td>\n",
       "      <td>2018-12-04</td>\n",
       "    </tr>\n",
       "    <tr>\n",
       "      <th>1</th>\n",
       "      <td>2019-04-01</td>\n",
       "      <td>2019-04-01 00:03:28</td>\n",
       "      <td>view</td>\n",
       "      <td>android</td>\n",
       "      <td>45061</td>\n",
       "      <td>34734</td>\n",
       "      <td>45061</td>\n",
       "      <td>CPM</td>\n",
       "      <td>200.6</td>\n",
       "      <td>0</td>\n",
       "      <td>1955269</td>\n",
       "      <td>-130129582</td>\n",
       "      <td>2018-12-04</td>\n",
       "    </tr>\n",
       "    <tr>\n",
       "      <th>2</th>\n",
       "      <td>2019-04-01</td>\n",
       "      <td>2019-04-01 00:04:58</td>\n",
       "      <td>view</td>\n",
       "      <td>ios</td>\n",
       "      <td>45061</td>\n",
       "      <td>34734</td>\n",
       "      <td>45061</td>\n",
       "      <td>CPM</td>\n",
       "      <td>200.6</td>\n",
       "      <td>0</td>\n",
       "      <td>1955269</td>\n",
       "      <td>-130129582</td>\n",
       "      <td>2018-12-04</td>\n",
       "    </tr>\n",
       "    <tr>\n",
       "      <th>3</th>\n",
       "      <td>2019-04-01</td>\n",
       "      <td>2019-04-01 00:10:23</td>\n",
       "      <td>view</td>\n",
       "      <td>ios</td>\n",
       "      <td>45061</td>\n",
       "      <td>34734</td>\n",
       "      <td>45061</td>\n",
       "      <td>CPM</td>\n",
       "      <td>200.6</td>\n",
       "      <td>0</td>\n",
       "      <td>1955269</td>\n",
       "      <td>-130129582</td>\n",
       "      <td>2018-12-04</td>\n",
       "    </tr>\n",
       "    <tr>\n",
       "      <th>4</th>\n",
       "      <td>2019-04-01</td>\n",
       "      <td>2019-04-01 00:15:42</td>\n",
       "      <td>view</td>\n",
       "      <td>android</td>\n",
       "      <td>45061</td>\n",
       "      <td>34734</td>\n",
       "      <td>45061</td>\n",
       "      <td>CPM</td>\n",
       "      <td>200.6</td>\n",
       "      <td>0</td>\n",
       "      <td>1955269</td>\n",
       "      <td>-130129582</td>\n",
       "      <td>2018-12-04</td>\n",
       "    </tr>\n",
       "  </tbody>\n",
       "</table>\n",
       "</div>"
      ],
      "text/plain": [
       "  placement_date                time event platform  ad_id  client_union_id  \\\n",
       "0     2019-04-01 2019-04-01 00:00:48  view  android  45061            34734   \n",
       "1     2019-04-01 2019-04-01 00:03:28  view  android  45061            34734   \n",
       "2     2019-04-01 2019-04-01 00:04:58  view      ios  45061            34734   \n",
       "3     2019-04-01 2019-04-01 00:10:23  view      ios  45061            34734   \n",
       "4     2019-04-01 2019-04-01 00:15:42  view  android  45061            34734   \n",
       "\n",
       "   campaign_union_id ad_cost_type  ad_cost  has_video  target_audience_count  \\\n",
       "0              45061          CPM    200.6          0                1955269   \n",
       "1              45061          CPM    200.6          0                1955269   \n",
       "2              45061          CPM    200.6          0                1955269   \n",
       "3              45061          CPM    200.6          0                1955269   \n",
       "4              45061          CPM    200.6          0                1955269   \n",
       "\n",
       "   community_id create_date  \n",
       "0    -130129582  2018-12-04  \n",
       "1    -130129582  2018-12-04  \n",
       "2    -130129582  2018-12-04  \n",
       "3    -130129582  2018-12-04  \n",
       "4    -130129582  2018-12-04  "
      ]
     },
     "execution_count": 90,
     "metadata": {},
     "output_type": "execute_result"
    }
   ],
   "source": [
    "import pandas as pd\n",
    "import seaborn as sns\n",
    "import numpy as np\n",
    "from matplotlib import pyplot as plt\n",
    "import plotly.express as px\n",
    "%matplotlib inline\n",
    "\n",
    "df1 = pd.read_csv(\"C:/Users/yagjh/Desktop/Python Files/ads_data.csv\", parse_dates=[\"date\", \"time\"])\n",
    "df2 = pd.read_csv(\"C:/Users/yagjh/Desktop/Python Files/ads_clients_data.csv\", parse_dates=[\"create_date\"])\n",
    "ads_data = df1.merge(df2, on=\"client_union_id\", how=\"inner\").drop(columns=\"date_y\").rename(columns={\"date_x\":\"placement_date\"})\n",
    "ads_data.head()"
   ]
  },
  {
   "cell_type": "markdown",
   "metadata": {},
   "source": [
    "Посчитайте среднее количество показов и среднее количество кликов на объявления за весь период (округлите до целых)."
   ]
  },
  {
   "cell_type": "code",
   "execution_count": 91,
   "metadata": {},
   "outputs": [
    {
     "data": {
      "text/html": [
       "<div>\n",
       "<style scoped>\n",
       "    .dataframe tbody tr th:only-of-type {\n",
       "        vertical-align: middle;\n",
       "    }\n",
       "\n",
       "    .dataframe tbody tr th {\n",
       "        vertical-align: top;\n",
       "    }\n",
       "\n",
       "    .dataframe thead th {\n",
       "        text-align: right;\n",
       "    }\n",
       "</style>\n",
       "<table border=\"1\" class=\"dataframe\">\n",
       "  <thead>\n",
       "    <tr style=\"text-align: right;\">\n",
       "      <th></th>\n",
       "      <th>event</th>\n",
       "      <th>average_count</th>\n",
       "    </tr>\n",
       "  </thead>\n",
       "  <tbody>\n",
       "    <tr>\n",
       "      <th>0</th>\n",
       "      <td>click</td>\n",
       "      <td>18196</td>\n",
       "    </tr>\n",
       "    <tr>\n",
       "      <th>1</th>\n",
       "      <td>view</td>\n",
       "      <td>148470</td>\n",
       "    </tr>\n",
       "  </tbody>\n",
       "</table>\n",
       "</div>"
      ],
      "text/plain": [
       "   event  average_count\n",
       "0  click          18196\n",
       "1   view         148470"
      ]
     },
     "execution_count": 91,
     "metadata": {},
     "output_type": "execute_result"
    }
   ],
   "source": [
    "avg_clickviews = ads_data.groupby([\"event\", \"placement_date\"], as_index=False).agg({\"platform\":\"count\"}) \\\n",
    "                         .groupby(\"event\", as_index=False).agg({\"platform\":\"mean\"}).rename(columns={\"platform\":\"average_count\"})\n",
    "avg_clickviews[\"average_count\"] = avg_clickviews[\"average_count\"].astype(int)\n",
    "avg_clickviews"
   ]
  },
  {
   "cell_type": "code",
   "execution_count": 92,
   "metadata": {},
   "outputs": [],
   "source": [
    "# Как рассчитать среднее число кликов и показов на одно объявление:\n",
    "# avg_clickviews = ads_data.groupby([\"ad_id\", \"event\"], as_index=False).agg({\"platform\":\"count\"}).rename(columns={\"platform\":\"average_count\"})\n",
    "# avg_clickviews.pivot(index=\"ad_id\", columns=\"event\", values=\"average_count\").fillna(0).mean().round()"
   ]
  },
  {
   "cell_type": "markdown",
   "metadata": {},
   "source": [
    "Нарисуйте график распределения показов на каждое объявление за весь период."
   ]
  },
  {
   "cell_type": "code",
   "execution_count": 93,
   "metadata": {},
   "outputs": [
    {
     "data": {
      "text/plain": [
       "<AxesSubplot:ylabel='Count'>"
      ]
     },
     "execution_count": 93,
     "metadata": {},
     "output_type": "execute_result"
    },
    {
     "data": {
      "image/png": "[encoded data removed]",
      "text/plain": [
       "<Figure size 432x288 with 1 Axes>"
      ]
     },
     "metadata": {
      "needs_background": "light"
     },
     "output_type": "display_data"
    }
   ],
   "source": [
    "ad_views = ads_data.query(\"event == 'view'\").groupby(\"ad_id\").agg({\"event\":\"count\"}).rename(columns={\"event\":\"views_count\"})\n",
    "sns.histplot(data=ad_views)"
   ]
  },
  {
   "cell_type": "markdown",
   "metadata": {},
   "source": [
    "На графике можно заметить, что большинство значений сконцентрировались около 0. При этом максимальное число показов для объявления ~ 35000. Значит среди объявлений есть такие, для которых число просмотров аномально высоко. Проверим:"
   ]
  },
  {
   "cell_type": "code",
   "execution_count": 94,
   "metadata": {},
   "outputs": [
    {
     "data": {
      "text/html": [
       "<div>\n",
       "<style scoped>\n",
       "    .dataframe tbody tr th:only-of-type {\n",
       "        vertical-align: middle;\n",
       "    }\n",
       "\n",
       "    .dataframe tbody tr th {\n",
       "        vertical-align: top;\n",
       "    }\n",
       "\n",
       "    .dataframe thead th {\n",
       "        text-align: right;\n",
       "    }\n",
       "</style>\n",
       "<table border=\"1\" class=\"dataframe\">\n",
       "  <thead>\n",
       "    <tr style=\"text-align: right;\">\n",
       "      <th></th>\n",
       "      <th>views_count</th>\n",
       "    </tr>\n",
       "    <tr>\n",
       "      <th>ad_id</th>\n",
       "      <th></th>\n",
       "    </tr>\n",
       "  </thead>\n",
       "  <tbody>\n",
       "    <tr>\n",
       "      <th>112583</th>\n",
       "      <td>351802</td>\n",
       "    </tr>\n",
       "    <tr>\n",
       "      <th>107729</th>\n",
       "      <td>184596</td>\n",
       "    </tr>\n",
       "    <tr>\n",
       "      <th>107837</th>\n",
       "      <td>51996</td>\n",
       "    </tr>\n",
       "    <tr>\n",
       "      <th>28142</th>\n",
       "      <td>24152</td>\n",
       "    </tr>\n",
       "    <tr>\n",
       "      <th>45008</th>\n",
       "      <td>19668</td>\n",
       "    </tr>\n",
       "    <tr>\n",
       "      <th>39191</th>\n",
       "      <td>17992</td>\n",
       "    </tr>\n",
       "    <tr>\n",
       "      <th>116718</th>\n",
       "      <td>11445</td>\n",
       "    </tr>\n",
       "    <tr>\n",
       "      <th>38892</th>\n",
       "      <td>9323</td>\n",
       "    </tr>\n",
       "    <tr>\n",
       "      <th>22490</th>\n",
       "      <td>8680</td>\n",
       "    </tr>\n",
       "    <tr>\n",
       "      <th>37720</th>\n",
       "      <td>5696</td>\n",
       "    </tr>\n",
       "  </tbody>\n",
       "</table>\n",
       "</div>"
      ],
      "text/plain": [
       "        views_count\n",
       "ad_id              \n",
       "112583       351802\n",
       "107729       184596\n",
       "107837        51996\n",
       "28142         24152\n",
       "45008         19668\n",
       "39191         17992\n",
       "116718        11445\n",
       "38892          9323\n",
       "22490          8680\n",
       "37720          5696"
      ]
     },
     "execution_count": 94,
     "metadata": {},
     "output_type": "execute_result"
    }
   ],
   "source": [
    "ad_views.sort_values(\"views_count\", ascending=False).head(10)"
   ]
  },
  {
   "cell_type": "markdown",
   "metadata": {},
   "source": [
    "Действительно, мы видим довольно высокое число показов лишь для нескольких объявлений. Именно из - за них мастштаб графика не позволяет отобразить как распределилось большинство показов. \n",
    "Поэтому отберём для визуализации только 90% всех наблюдений, исключив таким образом наиболее отклоняющиеся."
   ]
  },
  {
   "cell_type": "code",
   "execution_count": 95,
   "metadata": {},
   "outputs": [
    {
     "data": {
      "image/png": "[encoded data removed]",
      "text/plain": [
       "<Figure size 1152x432 with 1 Axes>"
      ]
     },
     "metadata": {
      "needs_background": "light"
     },
     "output_type": "display_data"
    }
   ],
   "source": [
    "quantile_90 = ad_views.quantile(0.9)[0]\n",
    "plt.figure(figsize=(16, 6))\n",
    "plt.title(label=\"Распределение числа просмотров для всех объявлений\", fontsize = 16)\n",
    "sns.histplot(data=ad_views.query(\"views_count < @quantile_90\"))\n",
    "sns.despine()"
   ]
  },
  {
   "cell_type": "markdown",
   "metadata": {},
   "source": [
    "Рассчитайте скользящее среднее показов с окном 2. Какое значение скользящего среднего получим за 6 апреля 2019 года (ответ округлите до целых)?"
   ]
  },
  {
   "cell_type": "code",
   "execution_count": 96,
   "metadata": {},
   "outputs": [
    {
     "name": "stdout",
     "output_type": "stream",
     "text": [
      "598 - значение скользящего среднего показов на одно объявление за 6 апреля 2019 года\n"
     ]
    }
   ],
   "source": [
    "rolling_views = ads_data.query(\"event == 'view'\").groupby([\"placement_date\", \"ad_id\"], as_index=False) \\\n",
    "        .agg({\"event\":\"count\"}).groupby(\"placement_date\").agg({\"event\":\"mean\"}) \\\n",
    "        .rolling(2).mean().rename(columns={\"event\":\"views_count\"})\n",
    "print(int(rolling_views.at[\"2019-04-06\", \"views_count\"]), \"- значение скользящего среднего показов на одно объявление за 6 апреля 2019 года\")"
   ]
  },
  {
   "cell_type": "markdown",
   "metadata": {},
   "source": [
    "Скользящее среднее часто используется для поиска аномалий в данных. Нанесите на один график значения арифметического среднего по дням и скользящего среднего количества показов. В какой день наблюдается наибольшая разница по модулю между арифметическим средним и скользящим средним?\n"
   ]
  },
  {
   "cell_type": "code",
   "execution_count": 97,
   "metadata": {},
   "outputs": [
    {
     "name": "stdout",
     "output_type": "stream",
     "text": [
      "Максимальная разница в 320 показов была 2019-04-06 00:00:00\n"
     ]
    },
    {
     "data": {
      "image/png": "[encoded data removed]",
      "text/plain": [
       "<Figure size 864x360 with 1 Axes>"
      ]
     },
     "metadata": {
      "needs_background": "light"
     },
     "output_type": "display_data"
    }
   ],
   "source": [
    "plt.figure(figsize=(12, 5))\n",
    "plt.title(\"Разница между арифметическим и скользящим средним\", fontsize = 16)\n",
    "sns.lineplot(data = rolling_views.rename(columns={\"views_count\":\"rolling_mean\"}), palette=\"Reds\")\n",
    "sns.lineplot(data = ads_data.query(\"event == 'view'\").groupby([\"placement_date\", \"ad_id\"], as_index=False).agg({\"event\":\"count\"}) \\\n",
    "                            .groupby(\"placement_date\").agg({\"event\":\"mean\"}).rename(columns={\"event\":\"normal_mean\"}))                        \n",
    "\n",
    "difference_between_mean = abs(rolling_views[\"views_count\"] - ads_data.query(\"event == 'view'\").groupby([\"placement_date\", \"ad_id\"], as_index=False) \\\n",
    "                                                                     .agg({\"event\":\"count\"}).groupby(\"placement_date\").agg({\"event\":\"mean\"})[\"event\"])\n",
    "print(f\"Максимальная разница в {int(difference_between_mean.max())} показов была {difference_between_mean.idxmax()}\")\n"
   ]
  },
  {
   "cell_type": "markdown",
   "metadata": {},
   "source": [
    "Напишите функцию, которая найдет проблемное объявление (с наибольшим/наименьшим количеством показов) в день, в который была замечена самая большая по модулю аномалия."
   ]
  },
  {
   "cell_type": "code",
   "execution_count": 98,
   "metadata": {},
   "outputs": [
    {
     "name": "stdout",
     "output_type": "stream",
     "text": [
      "Самый отклоняющийся день - 2019-04-06 00:00:00\n",
      "Номера объявлений с аномально высоким числом показов в этот день: [112583]\n"
     ]
    }
   ],
   "source": [
    "# Краткое описание работы функции:\n",
    "# Передаём датасет, в котором ищем наиболее резкое изменение числа показов за день и сохраняем этот день в переменную anomaly_day\n",
    "# Указываем, id тех объявлений, что имеют наибольшее отклонение от среднего.\n",
    "# Функция учитывает, что в некоторых случаях аномальных объявлений может быть несколько, если у них одинаковое число просмотров.\n",
    "\n",
    "def find_problem_ad(data):\n",
    "    avg_views_per_day = data.query(\"event == 'view'\").groupby([\"placement_date\", \"ad_id\"], as_index=False).agg({\"event\":\"count\"}) \\\n",
    "                                                     .groupby(\"placement_date\").agg({\"event\":\"mean\"})\n",
    "    anomaly_day = abs(avg_views_per_day.rolling(2).mean()[\"event\"] - avg_views_per_day[\"event\"]).idxmax()\n",
    "    print(\"Самый отклоняющийся день -\", anomaly_day)\n",
    "    daily_ads = data.query(\"event == 'view' & placement_date == @anomaly_day\").groupby(\"ad_id\").agg({\"event\":\"count\"})\n",
    "    if int(daily_ads.max() - daily_ads.mean()) > int(daily_ads.mean() - daily_ads.min()):\n",
    "        print(f\"Номера объявлений с аномально высоким числом показов в этот день: {daily_ads[daily_ads.event == daily_ads.max()[0]].index.to_list()}\")\n",
    "    else:\n",
    "        print(f\"Номера объявлений с аномально низким числом показов в этот день: {daily_ads[daily_ads.event == daily_ads.min()[0]].index.to_list()}\")\n",
    "find_problem_ad(ads_data)"
   ]
  },
  {
   "cell_type": "markdown",
   "metadata": {},
   "source": [
    "Найдите среднее количество дней от даты создания рекламного клиента и первым запуском рекламного объявления этим клиентом."
   ]
  },
  {
   "cell_type": "code",
   "execution_count": 99,
   "metadata": {},
   "outputs": [
    {
     "name": "stdout",
     "output_type": "stream",
     "text": [
      "Среднее количество дней от даты создания рекламного клиента до запуска первой рекламы: 124 days 09:04:43.532219570\n"
     ]
    },
    {
     "data": {
      "text/html": [
       "<div>\n",
       "<style scoped>\n",
       "    .dataframe tbody tr th:only-of-type {\n",
       "        vertical-align: middle;\n",
       "    }\n",
       "\n",
       "    .dataframe tbody tr th {\n",
       "        vertical-align: top;\n",
       "    }\n",
       "\n",
       "    .dataframe thead th {\n",
       "        text-align: right;\n",
       "    }\n",
       "</style>\n",
       "<table border=\"1\" class=\"dataframe\">\n",
       "  <thead>\n",
       "    <tr style=\"text-align: right;\">\n",
       "      <th></th>\n",
       "      <th>client_union_id</th>\n",
       "      <th>create_date</th>\n",
       "      <th>placement_date</th>\n",
       "      <th>difference</th>\n",
       "    </tr>\n",
       "  </thead>\n",
       "  <tbody>\n",
       "    <tr>\n",
       "      <th>0</th>\n",
       "      <td>34734</td>\n",
       "      <td>2018-12-04</td>\n",
       "      <td>2019-04-01</td>\n",
       "      <td>118 days</td>\n",
       "    </tr>\n",
       "    <tr>\n",
       "      <th>1</th>\n",
       "      <td>21532</td>\n",
       "      <td>2018-12-06</td>\n",
       "      <td>2019-04-01</td>\n",
       "      <td>116 days</td>\n",
       "    </tr>\n",
       "    <tr>\n",
       "      <th>2</th>\n",
       "      <td>114372</td>\n",
       "      <td>2019-01-31</td>\n",
       "      <td>2019-04-01</td>\n",
       "      <td>60 days</td>\n",
       "    </tr>\n",
       "    <tr>\n",
       "      <th>3</th>\n",
       "      <td>34237</td>\n",
       "      <td>2018-10-27</td>\n",
       "      <td>2019-04-01</td>\n",
       "      <td>156 days</td>\n",
       "    </tr>\n",
       "    <tr>\n",
       "      <th>4</th>\n",
       "      <td>120081</td>\n",
       "      <td>2019-01-13</td>\n",
       "      <td>2019-04-01</td>\n",
       "      <td>78 days</td>\n",
       "    </tr>\n",
       "  </tbody>\n",
       "</table>\n",
       "</div>"
      ],
      "text/plain": [
       "   client_union_id create_date placement_date difference\n",
       "0            34734  2018-12-04     2019-04-01   118 days\n",
       "1            21532  2018-12-06     2019-04-01   116 days\n",
       "2           114372  2019-01-31     2019-04-01    60 days\n",
       "3            34237  2018-10-27     2019-04-01   156 days\n",
       "4           120081  2019-01-13     2019-04-01    78 days"
      ]
     },
     "execution_count": 99,
     "metadata": {},
     "output_type": "execute_result"
    }
   ],
   "source": [
    "create_and_publish_diff = ads_data[[\"client_union_id\", \"create_date\", \"placement_date\"]].sort_values(\"placement_date\") \\\n",
    "                                                     .drop_duplicates(subset=\"client_union_id\").reset_index(drop=True)\n",
    "create_and_publish_diff[\"difference\"] = create_and_publish_diff[\"placement_date\"] - create_and_publish_diff[\"create_date\"]\n",
    "print(\"Среднее количество дней от даты создания рекламного клиента до запуска первой рекламы:\", create_and_publish_diff.difference.mean())\n",
    "create_and_publish_diff.head()"
   ]
  },
  {
   "cell_type": "markdown",
   "metadata": {},
   "source": [
    "Вычислите конверсию из создания рекламного клиента в запуск первой рекламы. Ответ дайте в процентах и округлите до сотых."
   ]
  },
  {
   "cell_type": "code",
   "execution_count": 100,
   "metadata": {},
   "outputs": [
    {
     "name": "stdout",
     "output_type": "stream",
     "text": [
      "Коэффициент конверсии из создания рекламного клиента в запуск первой рекламы = 0.69%\n"
     ]
    }
   ],
   "source": [
    "CR = round(df1[\"client_union_id\"].nunique() / df2[\"client_union_id\"].nunique() * 100, 2)\n",
    "print(f\"Коэффициент конверсии из создания рекламного клиента в запуск первой рекламы = {CR}%\")"
   ]
  },
  {
   "cell_type": "markdown",
   "metadata": {},
   "source": [
    "Разбейте пользователей на интервалы и определите, сколько уникальных клиентов запустили свое первое объявление в первый месяц своего существования. Визуализируйте клиентов по категориям."
   ]
  },
  {
   "cell_type": "code",
   "execution_count": 101,
   "metadata": {},
   "outputs": [
    {
     "name": "stdout",
     "output_type": "stream",
     "text": [
      "Число уникальных клиентов, разместивших объявление по периодам: \n",
      "От 3 месяцев до полугода    396\n",
      "От 1 до 3 месяцев           263\n",
      "От полугода и более         168\n",
      "В первый месяц               11 (это ответ)\n"
     ]
    },
    {
     "data": {
      "text/plain": [
       "(Text(0, 0.5, 'Число пользователей'),\n",
       " Text(0.5, 1.0, 'Период с регистрации клиента до первого размещения рекламы'))"
      ]
     },
     "execution_count": 101,
     "metadata": {},
     "output_type": "execute_result"
    },
    {
     "data": {
      "image/png": "[encoded data removed]",
      "text/plain": [
       "<Figure size 1008x432 with 1 Axes>"
      ]
     },
     "metadata": {
      "needs_background": "light"
     },
     "output_type": "display_data"
    }
   ],
   "source": [
    "create_and_publish_diff[\"group\"] = pd.cut(create_and_publish_diff[\"difference\"], bins=pd.to_timedelta([0, 30, 90, 180, 365], unit=\"d\"),  \n",
    "        labels=[\"В первый месяц\", \"От 1 до 3 месяцев\", \"От 3 месяцев до полугода\", \"От полугода и более\"])\n",
    "print(\"Число уникальных клиентов, разместивших объявление по периодам: \\n\" + create_and_publish_diff[\"group\"].value_counts().to_string(), \"(это ответ)\")\n",
    "\n",
    "plt.figure(figsize=(14, 6))\n",
    "plot = sns.barplot(x = create_and_publish_diff.groupby(\"group\", as_index=False).agg({\"difference\":\"count\"})[\"group\"],\n",
    "            y = create_and_publish_diff.groupby(\"group\", as_index=False).agg({\"difference\":\"count\"})[\"difference\"])\n",
    "plot.bar_label(plot.containers[0], size = 12)\n",
    "plot.set_ylabel(\"Число пользователей\"), plot.set_title(\"Период с регистрации клиента до первого размещения рекламы\")"
   ]
  }
 ],
 "metadata": {
  "kernelspec": {
   "display_name": "Python 3.10.2 64-bit",
   "language": "python",
   "name": "python3"
  },
  "language_info": {
   "codemirror_mode": {
    "name": "ipython",
    "version": 3
   },
   "file_extension": ".py",
   "mimetype": "text/x-python",
   "name": "python",
   "nbconvert_exporter": "python",
   "pygments_lexer": "ipython3",
   "version": "3.10.2"
  },
  "orig_nbformat": 4,
  "vscode": {
   "interpreter": {
    "hash": "26de051ba29f2982a8de78e945f0abaf191376122a1563185a90213a26c5da77"
   }
  }
 },
 "nbformat": 4,
 "nbformat_minor": 2
}
